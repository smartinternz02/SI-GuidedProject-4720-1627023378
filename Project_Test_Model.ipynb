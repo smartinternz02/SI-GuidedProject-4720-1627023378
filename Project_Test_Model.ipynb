{
 "cells": [
  {
   "cell_type": "code",
   "execution_count": 1,
   "metadata": {},
   "outputs": [],
   "source": [
    "import pandas as pd\n",
    "import numpy as np"
   ]
  },
  {
   "cell_type": "code",
   "execution_count": 2,
   "metadata": {},
   "outputs": [],
   "source": [
    "import matplotlib.pyplot as plt\n",
    "import seaborn as sns"
   ]
  },
  {
   "cell_type": "code",
   "execution_count": 3,
   "metadata": {},
   "outputs": [],
   "source": [
    "%matplotlib inline"
   ]
  },
  {
   "cell_type": "code",
   "execution_count": 4,
   "metadata": {},
   "outputs": [],
   "source": [
    "from tensorflow.keras.models import load_model\n",
    "from tensorflow.keras.preprocessing import image"
   ]
  },
  {
   "cell_type": "code",
   "execution_count": 5,
   "metadata": {},
   "outputs": [],
   "source": [
    "Animal_List = [\"Butterfly\",\"Cat\",\"Chicken\",\"Cow\",\"Dog\",\"Elephant\",\"Horse\",\"Sheep\",\"Spider\",\"Squirrel\"]"
   ]
  },
  {
   "cell_type": "code",
   "execution_count": null,
   "metadata": {},
   "outputs": [],
   "source": [
    "lis = [\"No\",\"Danger\"]"
   ]
  },
  {
   "cell_type": "code",
   "execution_count": 6,
   "metadata": {},
   "outputs": [],
   "source": [
    "import winsound"
   ]
  },
  {
   "cell_type": "code",
   "execution_count": 7,
   "metadata": {},
   "outputs": [],
   "source": [
    "model = load_model(\"crop_animal_predict2.h5\")"
   ]
  },
  {
   "cell_type": "code",
   "execution_count": null,
   "metadata": {},
   "outputs": [],
   "source": [
    "img = image.load_img(\"but.jfif\",target_size=(299,299))\n",
    "img = img/255.0\n",
    "x = image.img_to_array(img)\n",
    "import numpy as np\n",
    "x = np.expand_dims(x,axis=0)\n",
    "a = model.predict(x)\n",
    "\n",
    "print(\"predicted: \")\n",
    "print(a)\n",
    "\n",
    "if():\n",
    "    frequency = 2500  # Set Frequency To 2500 Hertz\n",
    "    duration = 1000  # Set Duration To 1000 ms == 1 second\n",
    "    winsound.Beep(frequency, duration)\n",
    "\n",
    "    \n",
    "\n",
    "print(\"\\n\")\n",
    "print(\"real answer: But\")\n",
    "img\n",
    "\n"
   ]
  },
  {
   "cell_type": "code",
   "execution_count": 8,
   "metadata": {},
   "outputs": [],
   "source": [
    "import cv2"
   ]
  },
  {
   "cell_type": "code",
   "execution_count": 11,
   "metadata": {},
   "outputs": [
    {
     "ename": "KeyboardInterrupt",
     "evalue": "",
     "output_type": "error",
     "traceback": [
      "\u001b[1;31m---------------------------------------------------------------------------\u001b[0m",
      "\u001b[1;31mKeyboardInterrupt\u001b[0m                         Traceback (most recent call last)",
      "\u001b[1;32m<ipython-input-11-6316434f4de4>\u001b[0m in \u001b[0;36m<module>\u001b[1;34m\u001b[0m\n\u001b[0;32m     18\u001b[0m                 \u001b[0mfrequency\u001b[0m \u001b[1;33m=\u001b[0m \u001b[1;36m2500\u001b[0m  \u001b[1;31m# Set Frequency To 2500 Hertz\u001b[0m\u001b[1;33m\u001b[0m\u001b[1;33m\u001b[0m\u001b[0m\n\u001b[0;32m     19\u001b[0m                 \u001b[0mduration\u001b[0m \u001b[1;33m=\u001b[0m \u001b[1;36m1000\u001b[0m  \u001b[1;31m# Set Duration To 1000 ms == 1 second\u001b[0m\u001b[1;33m\u001b[0m\u001b[1;33m\u001b[0m\u001b[0m\n\u001b[1;32m---> 20\u001b[1;33m                 \u001b[0mwinsound\u001b[0m\u001b[1;33m.\u001b[0m\u001b[0mBeep\u001b[0m\u001b[1;33m(\u001b[0m\u001b[0mfrequency\u001b[0m\u001b[1;33m,\u001b[0m \u001b[0mduration\u001b[0m\u001b[1;33m)\u001b[0m\u001b[1;33m\u001b[0m\u001b[1;33m\u001b[0m\u001b[0m\n\u001b[0m\u001b[0;32m     21\u001b[0m             \u001b[0mcv2\u001b[0m\u001b[1;33m.\u001b[0m\u001b[0mimshow\u001b[0m\u001b[1;33m(\u001b[0m\u001b[1;34m'video'\u001b[0m\u001b[1;33m,\u001b[0m \u001b[0mframe\u001b[0m\u001b[1;33m)\u001b[0m\u001b[1;33m\u001b[0m\u001b[1;33m\u001b[0m\u001b[0m\n\u001b[0;32m     22\u001b[0m \u001b[1;33m\u001b[0m\u001b[0m\n",
      "\u001b[1;31mKeyboardInterrupt\u001b[0m: "
     ]
    }
   ],
   "source": [
    "cap = cv2.VideoCapture(r\"C:\\Users\\Prashant Maikhuri\\Pictures\\project_animal.mp4\")\n",
    "size=4\n",
    "while True:\n",
    "    if cap.grab():\n",
    "        flag, frame = cap.retrieve()\n",
    "        if not flag:\n",
    "            continue\n",
    "        else:\n",
    "            a = cv2.resize(frame,(64,64))\n",
    "            normalized=a/255.0\n",
    "            normalized = cv2.flip(normalized,1,1)\n",
    "            mini = cv2.resize(normalized, (normalized.shape[1] // size, normalized.shape[0] // size))\n",
    "            x = image.img_to_array(normalized)\n",
    "            x = np.expand_dims(x,axis=0)\n",
    "            b = np.argmax(model.predict(x))\n",
    "            ##cv2.putText(frame,Animal_List[b], (50, 50),cv2.FONT_HERSHEY_SIMPLEX ,0.8, (255,255,255), 2)\n",
    "            if(Animal_List[b] != \"Butterfly\" and Animal_List[b] != \"Spider\" and Animal_List[b] != \"Squirrel\"):\n",
    "                frequency = 2500  # Set Frequency To 2500 Hertz\n",
    "                duration = 1000  # Set Duration To 1000 ms == 1 second\n",
    "                winsound.Beep(frequency, duration)\n",
    "            cv2.imshow('video', frame)\n",
    "            \n",
    "            \n",
    "                 \n",
    "    if cv2.waitKey(10) == 27:\n",
    "        break\n",
    "cap.release()\n",
    "\n",
    "# Close all started windows\n",
    "cv2.destroyAllWindows()"
   ]
  },
  {
   "cell_type": "code",
   "execution_count": null,
   "metadata": {},
   "outputs": [],
   "source": [
    "model1 = load_model(\"smartbridge.h5\")"
   ]
  },
  {
   "cell_type": "code",
   "execution_count": null,
   "metadata": {},
   "outputs": [],
   "source": [
    "img = image.load_img(\"but.jfif\",target_size=(299,299))\n",
    "x = image.img_to_array(img)\n",
    "import numpy as np\n",
    "x = np.expand_dims(x,axis=0)\n",
    "a = np.argmax(model1.predict(x))\n",
    "\n",
    "print(\"predicted: \")\n",
    "print(Animal_List[a])\n",
    "\n",
    "if(Animal_List[a] != \"Butterfly\" and Animal_List[a] != \"Spider\"):\n",
    "    frequency = 2500  # Set Frequency To 2500 Hertz\n",
    "    duration = 1000  # Set Duration To 1000 ms == 1 second\n",
    "    winsound.Beep(frequency, duration)\n",
    "\n",
    "    \n",
    "\n",
    "print(\"\\n\")\n",
    "print(\"real answer: But\")\n",
    "img"
   ]
  },
  {
   "cell_type": "code",
   "execution_count": null,
   "metadata": {},
   "outputs": [],
   "source": []
  }
 ],
 "metadata": {
  "kernelspec": {
   "display_name": "Python 3",
   "language": "python",
   "name": "python3"
  },
  "language_info": {
   "codemirror_mode": {
    "name": "ipython",
    "version": 3
   },
   "file_extension": ".py",
   "mimetype": "text/x-python",
   "name": "python",
   "nbconvert_exporter": "python",
   "pygments_lexer": "ipython3",
   "version": "3.7.6"
  }
 },
 "nbformat": 4,
 "nbformat_minor": 4
}
